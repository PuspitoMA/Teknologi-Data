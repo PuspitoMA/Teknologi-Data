{
  "nbformat": 4,
  "nbformat_minor": 0,
  "metadata": {
    "colab": {
      "name": "Week4-Kalkulator",
      "provenance": [],
      "collapsed_sections": [],
      "authorship_tag": "ABX9TyOSMg3TN2tTY9MGH/4yf0Qq",
      "include_colab_link": true
    },
    "kernelspec": {
      "name": "python3",
      "display_name": "Python 3"
    }
  },
  "cells": [
    {
      "cell_type": "markdown",
      "metadata": {
        "id": "view-in-github",
        "colab_type": "text"
      },
      "source": [
        "<a href=\"https://colab.research.google.com/github/PuspitoMA/Teknologi-Data/blob/main/Week4_Kalkulator.ipynb\" target=\"_parent\"><img src=\"https://colab.research.google.com/assets/colab-badge.svg\" alt=\"Open In Colab\"/></a>"
      ]
    },
    {
      "cell_type": "code",
      "metadata": {
        "id": "Zh3edhLqvJ-b",
        "colab": {
          "base_uri": "https://localhost:8080/"
        },
        "outputId": "357ade32-f496-402c-f378-18b2ea1cd361"
      },
      "source": [
        "def tambah(x: int, y: int):\r\n",
        "    return x + y\r\n",
        "\r\n",
        "def kurang(x: int, y: int):\r\n",
        "    return x - y\r\n",
        "\r\n",
        "def bagi(x: int, y: int):\r\n",
        "    return x / y\r\n",
        "\r\n",
        "def kali(x: int, y: int):\r\n",
        "    return x * y\r\n",
        "\r\n",
        "\r\n",
        "def prompt():\r\n",
        "    i1 = input(\"Masukkan bilangan-1: \")\r\n",
        "    i2 = input(\"Masukkan bilangan-2: \")\r\n",
        "    b1 = int(i1)\r\n",
        "    b2 = int(i2)\r\n",
        "    operator = input(\"Masukkan operator: \")\r\n",
        "    if operator == '+':\r\n",
        "        hasil = tambah(b1, b2)\r\n",
        "        nama_operator = 'Penjumlahan'\r\n",
        "        print('Hasil {} antara {} dan {} adalah: {}'.format(nama_operator, b1, b2, hasil))\r\n",
        "    elif operator == '-':\r\n",
        "        hasil = kurang(b1, b2)\r\n",
        "        nama_operator = 'Pengurangan'\r\n",
        "        print('Hasil {} antara {} dan {} adalah: {}'.format(nama_operator, b1, b2, hasil))\r\n",
        "    elif operator == '/':\r\n",
        "        hasil = bagi(b1, b2)\r\n",
        "        nama_operator = 'Pembagian'\r\n",
        "        print('Hasil {} antara {} dan {} adalah: {}'.format(nama_operator, b1, b2, hasil))\r\n",
        "    elif operator == '*':\r\n",
        "        hasil = kali(b1, b2)\r\n",
        "        nama_operator = 'Perkalian'\r\n",
        "        print('Hasil {} antara {} dan {} adalah: {}'.format(nama_operator, b1, b2, hasil))\r\n",
        "    else:\r\n",
        "        hasil = \"Operator tidak valid!\"\r\n",
        "        print(hasil)\r\n",
        "    lagi = input(\"Lagi? (Y/T): \")\r\n",
        "    return lagi\r\n",
        "\r\n",
        "\r\n",
        "def loop():\r\n",
        "    lagi = 'Y'\r\n",
        "    while lagi == 'Y' or lagi == 'y':\r\n",
        "        lagi = prompt()\r\n",
        "\r\n",
        "\r\n",
        "loop()"
      ],
      "execution_count": 3,
      "outputs": [
        {
          "output_type": "stream",
          "text": [
            "Masukkan bilangan-1: 20\n",
            "Masukkan bilangan-2: 50\n",
            "Masukkan operator: +\n",
            "Hasil Penjumlahan antara 20 dan 50 adalah: 70\n",
            "Lagi? (Y/T): Y\n",
            "Masukkan bilangan-1: 20\n",
            "Masukkan bilangan-2: 50\n",
            "Masukkan operator: -\n",
            "Hasil Pengurangan antara 20 dan 50 adalah: -30\n",
            "Lagi? (Y/T): y\n",
            "Masukkan bilangan-1: 20\n",
            "Masukkan bilangan-2: 50\n",
            "Masukkan operator: /\n",
            "Hasil Pembagian antara 20 dan 50 adalah: 0.4\n",
            "Lagi? (Y/T): y\n",
            "Masukkan bilangan-1: 20\n",
            "Masukkan bilangan-2: 50\n",
            "Masukkan operator: *\n",
            "Hasil Perkalian antara 20 dan 50 adalah: 1000\n",
            "Lagi? (Y/T): y\n",
            "Masukkan bilangan-1: 20\n",
            "Masukkan bilangan-2: 50\n",
            "Masukkan operator: =\n",
            "Operator tidak valid!\n",
            "Lagi? (Y/T): t\n"
          ],
          "name": "stdout"
        }
      ]
    }
  ]
}