{
  "nbformat": 4,
  "nbformat_minor": 0,
  "metadata": {
    "colab": {
      "name": "Week4-Percobaan",
      "provenance": [],
      "collapsed_sections": [],
      "authorship_tag": "ABX9TyO2nbkFodNmDAiNXoCSnrPX",
      "include_colab_link": true
    },
    "kernelspec": {
      "name": "python3",
      "display_name": "Python 3"
    }
  },
  "cells": [
    {
      "cell_type": "markdown",
      "metadata": {
        "id": "view-in-github",
        "colab_type": "text"
      },
      "source": [
        "<a href=\"https://colab.research.google.com/github/PuspitoMA/Teknologi-Data/blob/main/Week4_Percobaan.ipynb\" target=\"_parent\"><img src=\"https://colab.research.google.com/assets/colab-badge.svg\" alt=\"Open In Colab\"/></a>"
      ]
    },
    {
      "cell_type": "code",
      "metadata": {
        "colab": {
          "base_uri": "https://localhost:8080/"
        },
        "id": "r7VRv7ZGxdew",
        "outputId": "5378e4c5-077c-4dc0-c73c-06dff73960a9"
      },
      "source": [
        "# Membuat fungsi berparameter\r\n",
        "def kali(x: float, y: float):\r\n",
        "    hasil = x * y\r\n",
        "    return hasil\r\n",
        "\r\n",
        "\r\n",
        "# Pencabangan\r\n",
        "def tentukan_nilai_huruf(nilai_angka: float):\r\n",
        "    # 50 ke bawah: C\r\n",
        "    if nilai_angka <= 50:\r\n",
        "        nilai_huruf = 'C'\r\n",
        "    elif nilai_angka > 50 and nilai_angka < 80:  # 51 s.d. 79 dapat B, elif --> else if\r\n",
        "        nilai_huruf = 'B'\r\n",
        "    else:\r\n",
        "        nilai_huruf = 'A'\r\n",
        "    return nilai_huruf\r\n",
        "\r\n",
        "\r\n",
        "# Perulangan - WHILE\r\n",
        "def ulangi_kata(kata: str, jumlah: int):\r\n",
        "    hasil = ''\r\n",
        "    x = 0\r\n",
        "    while x < jumlah:\r\n",
        "        hasil = (hasil + ', ' + kata)\r\n",
        "        x = (x + 1)\r\n",
        "    return hasil\r\n",
        "\r\n",
        "\r\n",
        "# Perulangan dengan menggunakan FOR ... IN\r\n",
        "def sebutkan_nama_hari():\r\n",
        "    seminggu = [\r\n",
        "        'Senin',\r\n",
        "        'Selasa',\r\n",
        "        'Rabu',\r\n",
        "        'Kamis',\r\n",
        "        'Jumat',\r\n",
        "        'Sabtu',\r\n",
        "        'Minggu'\r\n",
        "    ]\r\n",
        "\r\n",
        "    for hari in seminggu:\r\n",
        "        print(hari)\r\n",
        "\r\n",
        "def main():\r\n",
        "    # Membuat variabel, memberikan nilai\r\n",
        "    x = 20  # 0x1054deb90\r\n",
        "    alamat_x = hex(id(x))\r\n",
        "    print(x)\r\n",
        "    print(alamat_x)\r\n",
        "    # Mengubah nilai variabel\r\n",
        "    x = x + 1\r\n",
        "    print(x)\r\n",
        "    print(hex(id(x)))\r\n",
        "    x = \"Apa kabar, X?\"  # Memberikan nilai yang lain\r\n",
        "    print(x)  # 0x1054deb90\r\n",
        "    print(hex(id(x)))\r\n",
        "\r\n",
        "    # Memanggil fungsi\r\n",
        "    b1 = 9.5\r\n",
        "    b2 = 9.75\r\n",
        "    hasil_perkalian = kali(b1, b2)\r\n",
        "    print(hasil_perkalian)\r\n",
        "\r\n",
        "    # Panggil fungsi pencabangan\r\n",
        "    nilai_angka = 85\r\n",
        "    nilai_huruf = tentukan_nilai_huruf(nilai_angka)\r\n",
        "    print(\"Nilai huruf: \" + nilai_huruf)  # Menggabungkan string bisa dengan +\r\n",
        "\r\n",
        "    # Pencabangan - WHILE\r\n",
        "    kata_diulang = ulangi_kata('Halo', 7)\r\n",
        "    print(kata_diulang)\r\n",
        "\r\n",
        "    # Pencabangan - FOR ... IN\r\n",
        "    sebutkan_nama_hari()\r\n",
        "\r\n",
        "    # Input <-- Semua hasil dari fungsi input, berupa STR\r\n",
        "    nama = input(\"Masukkan nama: \")\r\n",
        "    tahun_lahir = input(\"Tahun lahir Anda: \")\r\n",
        "    # FORMAT(), dengan placeholder\r\n",
        "    # Halo nama, anda lahir pada YYYY.\r\n",
        "    salam = \"Halo {}, anda lahir pada {}\".format(nama, tahun_lahir)\r\n",
        "    print(salam)\r\n",
        "    # Konversi str ke int\r\n",
        "    tahun_lahir = int(tahun_lahir) # Dynamic Typing\r\n",
        "    umur = 2021 - tahun_lahir\r\n",
        "    print(umur)\r\n",
        "\r\n",
        "\r\n",
        "main()\r\n"
      ],
      "execution_count": 2,
      "outputs": [
        {
          "output_type": "stream",
          "text": [
            "20\n",
            "0x5614bf4edc60\n",
            "21\n",
            "0x5614bf4edc80\n",
            "Apa kabar, X?\n",
            "0x7f86b78b0770\n",
            "92.625\n",
            "Nilai huruf: A\n",
            ", Halo, Halo, Halo, Halo, Halo, Halo, Halo\n",
            "Senin\n",
            "Selasa\n",
            "Rabu\n",
            "Kamis\n",
            "Jumat\n",
            "Sabtu\n",
            "Minggu\n",
            "Masukkan nama: Arum\n",
            "Tahun lahir Anda: 1999\n",
            "Halo Arum, anda lahir pada 1999\n",
            "22\n"
          ],
          "name": "stdout"
        }
      ]
    }
  ]
}